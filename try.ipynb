{
 "cells": [
  {
   "cell_type": "code",
   "execution_count": 3,
   "id": "f529a3f1",
   "metadata": {},
   "outputs": [
    {
     "name": "stdout",
     "output_type": "stream",
     "text": [
      "{'file_id': '84-121123-0000', 'word': 'go', 'start': 0.52, 'end': 0.86, 'mean_energy': 0.07334185220917248}\n",
      "{'file_id': '84-121123-0000', 'word': 'do', 'start': 1.3, 'end': 1.38, 'mean_energy': 0.043559661778653155}\n",
      "{'file_id': '84-121123-0000', 'word': 'you', 'start': 1.38, 'end': 1.49, 'mean_energy': 0.13233363913670304}\n",
      "{'file_id': '84-121123-0000', 'word': 'hear', 'start': 1.49, 'end': 1.91, 'mean_energy': 0.07596438160030115}\n",
      "{'file_id': '84-121123-0001', 'word': 'but', 'start': 0.3, 'end': 0.42, 'mean_energy': 0.089789403184249}\n",
      "{'file_id': '84-121123-0001', 'word': 'in', 'start': 0.42, 'end': 0.53, 'mean_energy': 0.14485594982743477}\n",
      "{'file_id': '84-121123-0001', 'word': 'less', 'start': 0.53, 'end': 0.75, 'mean_energy': 0.07032747831793149}\n",
      "{'file_id': '84-121123-0001', 'word': 'than', 'start': 0.75, 'end': 0.86, 'mean_energy': 0.07698933514462812}\n",
      "{'file_id': '84-121123-0001', 'word': 'five', 'start': 0.86, 'end': 1.1, 'mean_energy': 0.04451741396190323}\n",
      "{'file_id': '84-121123-0001', 'word': 'minutes', 'start': 1.1, 'end': 1.44, 'mean_energy': 0.034577906516902464}\n"
     ]
    }
   ],
   "source": [
    "import os\n",
    "import soundfile as sf\n",
    "import textgrid\n",
    "import numpy as np\n",
    "\n",
    "from prosody_tools.energy_processing import extract_energy  # use your module path\n",
    "\n",
    "# Path to your folder with .wav and .TextGrid files\n",
    "data_dir = r\"C:\\Users\\10935\\Desktop\\Master\\Spring 2025\\DSC 291 Cognitive mod\\final_project\\Motherese\\Data\\Train\\librispeech_asr\\dev-clean\\converted_wav\\84\\121123\"\n",
    "# Sampling rate used in your audio\n",
    "target_rate = 16000  # update if your wav files are a different rate\n",
    "\n",
    "results = []\n",
    "\n",
    "for file in os.listdir(data_dir):\n",
    "    if file.endswith(\".TextGrid\"):\n",
    "        file_id = file.replace(\".TextGrid\", \"\")\n",
    "        tg_path = os.path.join(data_dir, file)\n",
    "        wav_path = os.path.join(data_dir, f\"{file_id}.wav\")\n",
    "\n",
    "        if not os.path.exists(wav_path):\n",
    "            print(f\"Missing wav: {wav_path}\")\n",
    "            continue\n",
    "\n",
    "        # Load audio\n",
    "        waveform, sr = sf.read(wav_path)\n",
    "        if len(waveform.shape) > 1:  # stereo to mono\n",
    "            waveform = waveform.mean(axis=1)\n",
    "\n",
    "        # Parse TextGrid\n",
    "        tg = textgrid.TextGrid.fromFile(tg_path)\n",
    "        word_tier = tg.getFirst(\"words\")  # assumes tier is named \"words\"\n",
    "\n",
    "        for interval in word_tier:\n",
    "            word = interval.mark.strip()\n",
    "            if not word:  # skip silence or empty\n",
    "                continue\n",
    "\n",
    "            start_sec = float(interval.minTime)\n",
    "            end_sec = float(interval.maxTime)\n",
    "\n",
    "            # Slice waveform by time\n",
    "            start_idx = int(start_sec * sr)\n",
    "            end_idx = int(end_sec * sr)\n",
    "            word_audio = waveform[start_idx:end_idx]\n",
    "\n",
    "            if len(word_audio) == 0:\n",
    "                continue\n",
    "\n",
    "            # Extract energy\n",
    "            energy = extract_energy(word_audio, fs=sr, target_rate=200)\n",
    "            energy_mean = float(np.mean(energy))\n",
    "\n",
    "            results.append({\n",
    "                \"file_id\": file_id,\n",
    "                \"word\": word,\n",
    "                \"start\": start_sec,\n",
    "                \"end\": end_sec,\n",
    "                \"mean_energy\": energy_mean\n",
    "            })\n",
    "\n",
    "# ✅ Print sample\n",
    "for r in results[:10]:\n",
    "    print(r)\n"
   ]
  },
  {
   "cell_type": "code",
   "execution_count": null,
   "id": "06a9cdce",
   "metadata": {},
   "outputs": [
    {
     "ename": "ModuleNotFoundError",
     "evalue": "No module named 'lightning'",
     "output_type": "error",
     "traceback": [
      "\u001b[1;31m---------------------------------------------------------------------------\u001b[0m",
      "\u001b[1;31mModuleNotFoundError\u001b[0m                       Traceback (most recent call last)",
      "Cell \u001b[1;32mIn[8], line 1\u001b[0m\n\u001b[1;32m----> 1\u001b[0m \u001b[38;5;28;01mfrom\u001b[39;00m\u001b[38;5;250m \u001b[39m\u001b[38;5;21;01mfeature_extractors\u001b[39;00m\u001b[38;5;250m \u001b[39m\u001b[38;5;28;01mimport\u001b[39;00m ProsodyFeatureExtractor\n\u001b[0;32m      3\u001b[0m extractor \u001b[38;5;241m=\u001b[39m ProsodyFeatureExtractor(\n\u001b[0;32m      4\u001b[0m     lab_root\u001b[38;5;241m=\u001b[39m\u001b[38;5;124m\"\u001b[39m\u001b[38;5;124mpath/to/your/lab/files\u001b[39m\u001b[38;5;124m\"\u001b[39m,  \u001b[38;5;66;03m# should be *.lab files (converted TextGrid or .lab)\u001b[39;00m\n\u001b[0;32m      5\u001b[0m     wav_root\u001b[38;5;241m=\u001b[39m\u001b[38;5;124m\"\u001b[39m\u001b[38;5;124mpath/to/your/wav/files\u001b[39m\u001b[38;5;124m\"\u001b[39m,\n\u001b[1;32m   (...)\u001b[0m\n\u001b[0;32m     19\u001b[0m     prominence_mode\u001b[38;5;241m=\u001b[39m\u001b[38;5;124m\"\u001b[39m\u001b[38;5;124mmean\u001b[39m\u001b[38;5;124m\"\u001b[39m\n\u001b[0;32m     20\u001b[0m )\n",
      "File \u001b[1;32mc:\\Users\\10935\\Desktop\\Master\\Spring 2025\\DSC 291 Cognitive mod\\final_project\\Motherese\\feature_extractors.py:14\u001b[0m\n\u001b[0;32m     11\u001b[0m \u001b[38;5;28;01mfrom\u001b[39;00m\u001b[38;5;250m \u001b[39m\u001b[38;5;21;01mmultiprocessing\u001b[39;00m\u001b[38;5;250m \u001b[39m\u001b[38;5;28;01mimport\u001b[39;00m Pool, cpu_count, current_process\n\u001b[0;32m     12\u001b[0m \u001b[38;5;28;01mfrom\u001b[39;00m\u001b[38;5;250m \u001b[39m\u001b[38;5;21;01mcopy\u001b[39;00m\u001b[38;5;250m \u001b[39m\u001b[38;5;28;01mimport\u001b[39;00m deepcopy\n\u001b[1;32m---> 14\u001b[0m \u001b[38;5;28;01mfrom\u001b[39;00m\u001b[38;5;250m \u001b[39m\u001b[38;5;21;01msrc\u001b[39;00m\u001b[38;5;21;01m.\u001b[39;00m\u001b[38;5;21;01mutils\u001b[39;00m\u001b[38;5;21;01m.\u001b[39;00m\u001b[38;5;21;01mtext_processing\u001b[39;00m\u001b[38;5;250m \u001b[39m\u001b[38;5;28;01mimport\u001b[39;00m find_stress_syllable_start\n\u001b[0;32m     15\u001b[0m \u001b[38;5;28;01mfrom\u001b[39;00m\u001b[38;5;250m \u001b[39m\u001b[38;5;21;01msrc\u001b[39;00m\u001b[38;5;21;01m.\u001b[39;00m\u001b[38;5;21;01mutils\u001b[39;00m\u001b[38;5;21;01m.\u001b[39;00m\u001b[38;5;21;01mtext_processing\u001b[39;00m\u001b[38;5;250m \u001b[39m\u001b[38;5;28;01mimport\u001b[39;00m syllabify\n\u001b[0;32m     16\u001b[0m \u001b[38;5;28;01mfrom\u001b[39;00m\u001b[38;5;250m \u001b[39m\u001b[38;5;21;01msrc\u001b[39;00m\u001b[38;5;21;01m.\u001b[39;00m\u001b[38;5;21;01mutils\u001b[39;00m\u001b[38;5;21;01m.\u001b[39;00m\u001b[38;5;21;01mtext_processing\u001b[39;00m\u001b[38;5;250m \u001b[39m\u001b[38;5;28;01mimport\u001b[39;00m CelexReader\n",
      "File \u001b[1;32mc:\\Users\\10935\\Desktop\\Master\\Spring 2025\\DSC 291 Cognitive mod\\final_project\\Motherese\\src\\utils\\__init__.py:1\u001b[0m\n\u001b[1;32m----> 1\u001b[0m \u001b[38;5;28;01mfrom\u001b[39;00m\u001b[38;5;250m \u001b[39m\u001b[38;5;21;01msrc\u001b[39;00m\u001b[38;5;21;01m.\u001b[39;00m\u001b[38;5;21;01mutils\u001b[39;00m\u001b[38;5;21;01m.\u001b[39;00m\u001b[38;5;21;01minstantiators\u001b[39;00m\u001b[38;5;250m \u001b[39m\u001b[38;5;28;01mimport\u001b[39;00m instantiate_callbacks, instantiate_loggers\n\u001b[0;32m      2\u001b[0m \u001b[38;5;28;01mfrom\u001b[39;00m\u001b[38;5;250m \u001b[39m\u001b[38;5;21;01msrc\u001b[39;00m\u001b[38;5;21;01m.\u001b[39;00m\u001b[38;5;21;01mutils\u001b[39;00m\u001b[38;5;21;01m.\u001b[39;00m\u001b[38;5;21;01mlogging_utils\u001b[39;00m\u001b[38;5;250m \u001b[39m\u001b[38;5;28;01mimport\u001b[39;00m log_hyperparameters\n\u001b[0;32m      3\u001b[0m \u001b[38;5;28;01mfrom\u001b[39;00m\u001b[38;5;250m \u001b[39m\u001b[38;5;21;01msrc\u001b[39;00m\u001b[38;5;21;01m.\u001b[39;00m\u001b[38;5;21;01mutils\u001b[39;00m\u001b[38;5;21;01m.\u001b[39;00m\u001b[38;5;21;01mpylogger\u001b[39;00m\u001b[38;5;250m \u001b[39m\u001b[38;5;28;01mimport\u001b[39;00m get_pylogger\n",
      "File \u001b[1;32mc:\\Users\\10935\\Desktop\\Master\\Spring 2025\\DSC 291 Cognitive mod\\final_project\\Motherese\\src\\utils\\instantiators.py:8\u001b[0m\n\u001b[0;32m      5\u001b[0m \u001b[38;5;28;01mfrom\u001b[39;00m\u001b[38;5;250m \u001b[39m\u001b[38;5;21;01mpytorch_lightning\u001b[39;00m\u001b[38;5;250m \u001b[39m\u001b[38;5;28;01mimport\u001b[39;00m Callback\n\u001b[0;32m      6\u001b[0m \u001b[38;5;28;01mfrom\u001b[39;00m\u001b[38;5;250m \u001b[39m\u001b[38;5;21;01mpytorch_lightning\u001b[39;00m\u001b[38;5;21;01m.\u001b[39;00m\u001b[38;5;21;01mloggers\u001b[39;00m\u001b[38;5;250m \u001b[39m\u001b[38;5;28;01mimport\u001b[39;00m Logger\n\u001b[1;32m----> 8\u001b[0m \u001b[38;5;28;01mfrom\u001b[39;00m\u001b[38;5;250m \u001b[39m\u001b[38;5;21;01msrc\u001b[39;00m\u001b[38;5;21;01m.\u001b[39;00m\u001b[38;5;21;01mutils\u001b[39;00m\u001b[38;5;250m \u001b[39m\u001b[38;5;28;01mimport\u001b[39;00m pylogger\n\u001b[0;32m     10\u001b[0m log \u001b[38;5;241m=\u001b[39m pylogger\u001b[38;5;241m.\u001b[39mget_pylogger(\u001b[38;5;18m__name__\u001b[39m)\n\u001b[0;32m     13\u001b[0m \u001b[38;5;28;01mdef\u001b[39;00m\u001b[38;5;250m \u001b[39m\u001b[38;5;21minstantiate_callbacks\u001b[39m(callbacks_cfg: DictConfig) \u001b[38;5;241m-\u001b[39m\u001b[38;5;241m>\u001b[39m List[Callback]:\n",
      "File \u001b[1;32mc:\\Users\\10935\\Desktop\\Master\\Spring 2025\\DSC 291 Cognitive mod\\final_project\\Motherese\\src\\utils\\pylogger.py:3\u001b[0m\n\u001b[0;32m      1\u001b[0m \u001b[38;5;28;01mimport\u001b[39;00m\u001b[38;5;250m \u001b[39m\u001b[38;5;21;01mlogging\u001b[39;00m\n\u001b[1;32m----> 3\u001b[0m \u001b[38;5;28;01mfrom\u001b[39;00m\u001b[38;5;250m \u001b[39m\u001b[38;5;21;01mlightning\u001b[39;00m\u001b[38;5;21;01m.\u001b[39;00m\u001b[38;5;21;01mpytorch\u001b[39;00m\u001b[38;5;21;01m.\u001b[39;00m\u001b[38;5;21;01mutilities\u001b[39;00m\u001b[38;5;250m \u001b[39m\u001b[38;5;28;01mimport\u001b[39;00m rank_zero_only\n\u001b[0;32m      6\u001b[0m \u001b[38;5;28;01mdef\u001b[39;00m\u001b[38;5;250m \u001b[39m\u001b[38;5;21mget_pylogger\u001b[39m(name\u001b[38;5;241m=\u001b[39m\u001b[38;5;18m__name__\u001b[39m) \u001b[38;5;241m-\u001b[39m\u001b[38;5;241m>\u001b[39m logging\u001b[38;5;241m.\u001b[39mLogger:\n\u001b[0;32m      7\u001b[0m \u001b[38;5;250m    \u001b[39m\u001b[38;5;124;03m\"\"\"Initializes multi-GPU-friendly python command line logger.\"\"\"\u001b[39;00m\n",
      "\u001b[1;31mModuleNotFoundError\u001b[0m: No module named 'lightning'"
     ]
    }
   ],
   "source": [
    "from feature_extractors import ProsodyFeatureExtractor\n",
    "\n",
    "extractor = ProsodyFeatureExtractor(\n",
    "    lab_root=\"C:\\Users\\10935\\Desktop\\Master\\Spring 2025\\DSC 291 Cognitive mod\\final_project\\Motherese\\Data\\Train\\librispeech_asr\\dev-clean\\lab_words\",  # should be *.lab files (converted TextGrid or .lab)\n",
    "    wav_root=\"C:\\Users\\10935\\Desktop\\Master\\Spring 2025\\DSC 291 Cognitive mod\\final_project\\Motherese\\Data\\Train\\librispeech_asr\\dev-clean\\converted_wav\",\n",
    "    phoneme_lab_root=\"C:\\Users\\10935\\Desktop\\Master\\Spring 2025\\DSC 291 Cognitive mod\\final_project\\Motherese\\Data\\Train\\librispeech_asr\\dev-clean\\lab_phonemes\",  # can also be from MFA alignment\n",
    "    celex_path=\"path/to/celex/dictionary\",  # required if f0_stress_localizer is \"celex\"\n",
    "    extract_f0=True,\n",
    "    extract_energy=True,\n",
    "    extract_word_duration=True,\n",
    "    extract_duration=True,\n",
    "    extract_pause_before=True,\n",
    "    extract_pause_after=True,\n",
    "    extract_prominence=True,\n",
    "    f0_mode=\"dct\",\n",
    "    f0_n_coeffs=4,\n",
    "    energy_mode=\"mean\",\n",
    "    word_duration_mode=\"syllable_norm\",\n",
    "    prominence_mode=\"mean\"\n",
    ")\n"
   ]
  },
  {
   "cell_type": "code",
   "execution_count": null,
   "id": "7d3b5c5a",
   "metadata": {},
   "outputs": [],
   "source": []
  }
 ],
 "metadata": {
  "kernelspec": {
   "display_name": "Python 3",
   "language": "python",
   "name": "python3"
  },
  "language_info": {
   "codemirror_mode": {
    "name": "ipython",
    "version": 3
   },
   "file_extension": ".py",
   "mimetype": "text/x-python",
   "name": "python",
   "nbconvert_exporter": "python",
   "pygments_lexer": "ipython3",
   "version": "3.10.6"
  }
 },
 "nbformat": 4,
 "nbformat_minor": 5
}
