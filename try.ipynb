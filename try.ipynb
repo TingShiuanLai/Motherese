{
 "cells": [
  {
   "cell_type": "code",
   "execution_count": 3,
   "id": "f529a3f1",
   "metadata": {},
   "outputs": [
    {
     "name": "stdout",
     "output_type": "stream",
     "text": [
      "{'file_id': '84-121123-0000', 'word': 'go', 'start': 0.52, 'end': 0.86, 'mean_energy': 0.07334185220917248}\n",
      "{'file_id': '84-121123-0000', 'word': 'do', 'start': 1.3, 'end': 1.38, 'mean_energy': 0.043559661778653155}\n",
      "{'file_id': '84-121123-0000', 'word': 'you', 'start': 1.38, 'end': 1.49, 'mean_energy': 0.13233363913670304}\n",
      "{'file_id': '84-121123-0000', 'word': 'hear', 'start': 1.49, 'end': 1.91, 'mean_energy': 0.07596438160030115}\n",
      "{'file_id': '84-121123-0001', 'word': 'but', 'start': 0.3, 'end': 0.42, 'mean_energy': 0.089789403184249}\n",
      "{'file_id': '84-121123-0001', 'word': 'in', 'start': 0.42, 'end': 0.53, 'mean_energy': 0.14485594982743477}\n",
      "{'file_id': '84-121123-0001', 'word': 'less', 'start': 0.53, 'end': 0.75, 'mean_energy': 0.07032747831793149}\n",
      "{'file_id': '84-121123-0001', 'word': 'than', 'start': 0.75, 'end': 0.86, 'mean_energy': 0.07698933514462812}\n",
      "{'file_id': '84-121123-0001', 'word': 'five', 'start': 0.86, 'end': 1.1, 'mean_energy': 0.04451741396190323}\n",
      "{'file_id': '84-121123-0001', 'word': 'minutes', 'start': 1.1, 'end': 1.44, 'mean_energy': 0.034577906516902464}\n"
     ]
    }
   ],
   "source": [
    "import os\n",
    "import soundfile as sf\n",
    "import textgrid\n",
    "import numpy as np\n",
    "\n",
    "from prosody_tools.energy_processing import extract_energy  # use your module path\n",
    "\n",
    "# Path to your folder with .wav and .TextGrid files\n",
    "data_dir = r\"C:\\Users\\10935\\Desktop\\Master\\Spring 2025\\DSC 291 Cognitive mod\\final_project\\Motherese\\Data\\Train\\librispeech_asr\\dev-clean\\converted_wav\\84\\121123\"\n",
    "# Sampling rate used in your audio\n",
    "target_rate = 16000  # update if your wav files are a different rate\n",
    "\n",
    "results = []\n",
    "\n",
    "for file in os.listdir(data_dir):\n",
    "    if file.endswith(\".TextGrid\"):\n",
    "        file_id = file.replace(\".TextGrid\", \"\")\n",
    "        tg_path = os.path.join(data_dir, file)\n",
    "        wav_path = os.path.join(data_dir, f\"{file_id}.wav\")\n",
    "\n",
    "        if not os.path.exists(wav_path):\n",
    "            print(f\"Missing wav: {wav_path}\")\n",
    "            continue\n",
    "\n",
    "        # Load audio\n",
    "        waveform, sr = sf.read(wav_path)\n",
    "        if len(waveform.shape) > 1:  # stereo to mono\n",
    "            waveform = waveform.mean(axis=1)\n",
    "\n",
    "        # Parse TextGrid\n",
    "        tg = textgrid.TextGrid.fromFile(tg_path)\n",
    "        word_tier = tg.getFirst(\"words\")  # assumes tier is named \"words\"\n",
    "\n",
    "        for interval in word_tier:\n",
    "            word = interval.mark.strip()\n",
    "            if not word:  # skip silence or empty\n",
    "                continue\n",
    "\n",
    "            start_sec = float(interval.minTime)\n",
    "            end_sec = float(interval.maxTime)\n",
    "\n",
    "            # Slice waveform by time\n",
    "            start_idx = int(start_sec * sr)\n",
    "            end_idx = int(end_sec * sr)\n",
    "            word_audio = waveform[start_idx:end_idx]\n",
    "\n",
    "            if len(word_audio) == 0:\n",
    "                continue\n",
    "\n",
    "            # Extract energy\n",
    "            energy = extract_energy(word_audio, fs=sr, target_rate=200)\n",
    "            energy_mean = float(np.mean(energy))\n",
    "\n",
    "            results.append({\n",
    "                \"file_id\": file_id,\n",
    "                \"word\": word,\n",
    "                \"start\": start_sec,\n",
    "                \"end\": end_sec,\n",
    "                \"mean_energy\": energy_mean\n",
    "            })\n",
    "\n",
    "# ✅ Print sample\n",
    "for r in results[:10]:\n",
    "    print(r)\n"
   ]
  },
  {
   "cell_type": "code",
   "execution_count": null,
   "id": "06a9cdce",
   "metadata": {},
   "outputs": [],
   "source": []
  }
 ],
 "metadata": {
  "kernelspec": {
   "display_name": "Python 3",
   "language": "python",
   "name": "python3"
  },
  "language_info": {
   "codemirror_mode": {
    "name": "ipython",
    "version": 3
   },
   "file_extension": ".py",
   "mimetype": "text/x-python",
   "name": "python",
   "nbconvert_exporter": "python",
   "pygments_lexer": "ipython3",
   "version": "3.10.6"
  }
 },
 "nbformat": 4,
 "nbformat_minor": 5
}
