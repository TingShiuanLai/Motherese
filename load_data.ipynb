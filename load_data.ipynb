{
 "cells": [
  {
   "cell_type": "code",
   "execution_count": null,
   "id": "6e32fafd",
   "metadata": {},
   "outputs": [
    {
     "data": {
      "text/plain": [
       "{'colHeadings': ['path',\n",
       "  'filename',\n",
       "  'languages',\n",
       "  'media',\n",
       "  'date',\n",
       "  'pid',\n",
       "  'designType',\n",
       "  'activityType',\n",
       "  'groupType'],\n",
       " 'data': []}"
      ]
     },
     "execution_count": 11,
     "metadata": {},
     "output_type": "execute_result"
    }
   ],
   "source": [
    "import tbdb\n",
    "\n",
    "# Get a list of transcripts for a corpus (e.g., Providence)\n",
    "transcripts = tbdb.getTranscripts( {\"corpusName\": \"childes\",\n",
    "                                    \"corpora\": [['childes', 'Eng-NA', 'MacWhinney', '010411a']]} )\n",
    "\n",
    "for row in transcripts['data']:\n",
    "    path, filename, lang, media, date, pid, design, activity, group = row\n",
    "    print(f\"Transcript: {filename}, Path: {path}, Media: {media}\")\n",
    "transcripts"
   ]
  },
  {
   "cell_type": "code",
   "execution_count": null,
   "id": "e0344d74",
   "metadata": {},
   "outputs": [],
   "source": [
    "import os\n",
    "from glob import glob\n",
    "\n",
    "# Set your local path to the extracted Bernstein-Ratner corpus\n",
    "corpus_path = \"/path/to/Bernstein\"\n",
    "\n",
    "# List all transcript (.cha) files\n",
    "cha_files = glob(os.path.join(corpus_path, \"*.cha\"))\n",
    "print(\"Transcript files:\", cha_files)\n",
    "\n",
    "# List all audio files (assuming they're in an 'audio' subfolder)\n",
    "audio_files = glob(os.path.join(corpus_path, \"audio\", \"*.wav\"))\n",
    "print(\"Audio files:\", audio_files)\n"
   ]
  },
  {
   "cell_type": "code",
   "execution_count": null,
   "id": "45a04026",
   "metadata": {},
   "outputs": [
    {
     "data": {
      "text/plain": [
       "{'colHeadings': ['path',\n",
       "  'filename',\n",
       "  'languages',\n",
       "  'media',\n",
       "  'date',\n",
       "  'pid',\n",
       "  'designType',\n",
       "  'activityType',\n",
       "  'groupType'],\n",
       " 'data': []}"
      ]
     },
     "execution_count": 4,
     "metadata": {},
     "output_type": "execute_result"
    }
   ],
   "source": [
    "import requests\n",
    "import os\n",
    "\n",
    "BASE_URL = \"https://media.talkbank.org/childes/Eng-NA/Providence/\"\n",
    "\n",
    "for row in results['data']:\n",
    "    path, filename, lang, media, date, pid, design, activity, group = row\n",
    "    if media == 'audio':\n",
    "        audio_url = f\"{BASE_URL}audio/{filename}.wav\"\n",
    "        transcript_url = f\"{BASE_URL}{filename}.cha\"\n",
    "        # Download audio\n",
    "        audio_resp = requests.get(audio_url)\n",
    "        if audio_resp.status_code == 200:\n",
    "            with open(f\"{filename}.wav\", \"wb\") as f:\n",
    "                f.write(audio_resp.content)\n",
    "            print(f\"Downloaded audio: {filename}.wav\")\n",
    "        # Download transcript\n",
    "        transcript_resp = requests.get(transcript_url)\n",
    "        if transcript_resp.status_code == 200:\n",
    "            with open(f\"{filename}.cha\", \"wb\") as f:\n",
    "                f.write(transcript_resp.content)\n",
    "            print(f\"Downloaded transcript: {filename}.cha\")\n"
   ]
  },
  {
   "cell_type": "code",
   "execution_count": null,
   "id": "57c0dc67",
   "metadata": {},
   "outputs": [],
   "source": []
  }
 ],
 "metadata": {
  "kernelspec": {
   "display_name": "Python 3",
   "language": "python",
   "name": "python3"
  },
  "language_info": {
   "codemirror_mode": {
    "name": "ipython",
    "version": 3
   },
   "file_extension": ".py",
   "mimetype": "text/x-python",
   "name": "python",
   "nbconvert_exporter": "python",
   "pygments_lexer": "ipython3",
   "version": "3.13.2"
  }
 },
 "nbformat": 4,
 "nbformat_minor": 5
}
